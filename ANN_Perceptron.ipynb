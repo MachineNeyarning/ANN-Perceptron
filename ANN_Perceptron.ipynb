{
  "nbformat": 4,
  "nbformat_minor": 0,
  "metadata": {
    "colab": {
      "provenance": []
    },
    "kernelspec": {
      "name": "python3",
      "display_name": "Python 3"
    },
    "language_info": {
      "name": "python"
    }
  },
  "cells": [
    {
      "cell_type": "markdown",
      "source": [
        "# Artificial Neural Network (ANN): Perceptron\n",
        "\n",
        "**Aluno**: Maruan Biasi El Achkar               \n",
        "**GitHub**: https://github.com/MachineNeyarning/ANN-Perceptron\n",
        "\n",
        "------------"
      ],
      "metadata": {
        "id": "iT-awokmp0UW"
      }
    },
    {
      "cell_type": "markdown",
      "source": [
        "# 1. Problema das portas lógicas AND, OR"
      ],
      "metadata": {
        "id": "z7hX1eMYqSBZ"
      }
    },
    {
      "cell_type": "code",
      "source": [
        "import numpy as np"
      ],
      "metadata": {
        "id": "S2qXvKBWs7x8"
      },
      "execution_count": 2,
      "outputs": []
    },
    {
      "cell_type": "code",
      "execution_count": 28,
      "metadata": {
        "id": "7u01ekHVXKfl",
        "colab": {
          "base_uri": "https://localhost:8080/"
        },
        "outputId": "14f24eb9-f39b-4666-c4c3-0e0c8c6baef5"
      },
      "outputs": [
        {
          "output_type": "stream",
          "name": "stdout",
          "text": [
            "-----------------------------------------\n",
            "- AND GATE\n",
            "- Acurracy: 100.00%\n",
            "- Predictions: [0 0 0 1]\n",
            "- Weights: [0.19671415 0.0617357 ]\n",
            "- Bias: -0.2523114618993075\n",
            "-----------------------------------------\n",
            "-----------------------------------------\n",
            "- OR GATE\n",
            "- Acurracy: 100.00%\n",
            "- Predictions: [0 1 1 1]\n",
            "- Weights: [0.19671415 0.1617357 ]\n",
            "- Bias: -0.15231146189930747\n",
            "-----------------------------------------\n",
            "-----------------------------------------\n",
            "- XOR GATE\n",
            "- Acurracy: 50.00%\n",
            "- Predictions: [1 1 0 0]\n",
            "- Weights: [-0.10328585 -0.0382643 ]\n",
            "- Bias: 0.04768853810069254\n",
            "-----------------------------------------\n"
          ]
        }
      ],
      "source": [
        "np.random.seed(42)\n",
        "\n",
        "class Perceptron:\n",
        "    def __init__(self, input_size, lr=0.01, epochs=1000):\n",
        "        self.lr = lr # learning rate\n",
        "        self.epochs = epochs # quantidade de \"rodadas\" de treino\n",
        "        self.weights = np.random.randn(input_size) # peso inicial aleatorio\n",
        "        self.bias = np.random.randn() # bias aleatorio\n",
        "\n",
        "    def activation(self, x):\n",
        "        return np.where(x >= 0, 1, 0) # se x for maior que 0, retorna 1. senao retorna 0\n",
        "\n",
        "    def predict(self, X):\n",
        "        linear_output = np.dot(X, self.weights) + self.bias # weighted sum das entradas + bias\n",
        "        return self.activation(linear_output)\n",
        "\n",
        "    def fit(self, X, y):\n",
        "        for _ in range(self.epochs): # rodadas\n",
        "            for xi, target in zip(X, y):\n",
        "                linear_output = np.dot(xi, self.weights) + self.bias\n",
        "                y_pred = self.activation(linear_output)\n",
        "                # ----\n",
        "                update = self.lr * (target - y_pred) # erro vezes learning rate\n",
        "                self.weights += update * xi # ajuste dos pesos\n",
        "                self.bias += update # ajuste do bias\n",
        "\n",
        "\n",
        "\n",
        "# calculadora de accuracy, compara a truth table com a predicao\n",
        "def accuracy(y_true, y_pred):\n",
        "    correct = np.sum(y_true == y_pred)\n",
        "    total = len(y_true)\n",
        "    return (correct / total) * 100\n",
        "\n",
        "\n",
        "# AND GATE\n",
        "X_and = np.array([[0,0], [0,1], [1,0], [1,1]])\n",
        "y_and = np.array([0, 0, 0, 1])\n",
        "\n",
        "# OR GATE\n",
        "X_or = np.array([[0,0], [0,1], [1,0], [1,1]])\n",
        "y_or = np.array([0, 1, 1, 1])\n",
        "\n",
        "# XOR GATE\n",
        "X_xor = np.array([[0,0], [0,1], [1,0], [1,1]])\n",
        "y_xor = np.array([0, 1, 1, 0])\n",
        "\n",
        "# treino\n",
        "model = Perceptron(input_size=2, lr=0.1, epochs=10)\n",
        "\n",
        "# fit AND\n",
        "model.fit(X_and, y_and)\n",
        "\n",
        "y_and_predict = model.predict(X_and)\n",
        "print(\"-----------------------------------------\")\n",
        "print(\"- AND GATE\")\n",
        "print(f\"- Acurracy: {accuracy(y_and, y_and_predict):.2f}%\")\n",
        "print(\"- Predictions:\", y_and_predict)\n",
        "print(\"- Weights:\", model.weights)\n",
        "print(\"- Bias:\", model.bias)\n",
        "print(\"-----------------------------------------\")\n",
        "\n",
        "# fit OR\n",
        "model.fit(X_or, y_or)\n",
        "\n",
        "y_or_predict = model.predict(X_or)\n",
        "print(\"-----------------------------------------\")\n",
        "print(\"- OR GATE\")\n",
        "print(f\"- Acurracy: {accuracy(y_or, y_or_predict):.2f}%\")\n",
        "print(\"- Predictions:\", y_or_predict)\n",
        "print(\"- Weights:\", model.weights)\n",
        "print(\"- Bias:\", model.bias)\n",
        "print(\"-----------------------------------------\")\n",
        "\n",
        "# fit XOR\n",
        "model.fit(X_xor, y_xor)\n",
        "\n",
        "y_xor_predict = model.predict(X_xor)\n",
        "print(\"-----------------------------------------\")\n",
        "print(\"- XOR GATE\")\n",
        "print(f\"- Acurracy: {accuracy(y_xor, y_xor_predict):.2f}%\")\n",
        "print(\"- Predictions:\", y_xor_predict)\n",
        "print(\"- Weights:\", model.weights)\n",
        "print(\"- Bias:\", model.bias)\n",
        "print(\"-----------------------------------------\")\n",
        "\n"
      ]
    },
    {
      "cell_type": "markdown",
      "source": [
        "# 2. Repita o exercício 1 sobre o problema das portas lógicas utilizando a Regra de Aprendizado Delta"
      ],
      "metadata": {
        "id": "-GOVB6DKy4tj"
      }
    },
    {
      "cell_type": "code",
      "source": [
        "import numpy as np"
      ],
      "metadata": {
        "id": "3Ns8KD06zFtG"
      },
      "execution_count": null,
      "outputs": []
    },
    {
      "cell_type": "code",
      "source": [
        "import numpy as np\n",
        "\n",
        "np.random.seed(42)\n",
        "\n",
        "class Perceptron:\n",
        "    def __init__(self, input_size, lr=0.01, epochs=1000):\n",
        "        self.lr = lr  # learning rate\n",
        "        self.epochs = epochs  # épocas de treino\n",
        "        self.weights = np.random.randn(input_size)  # pesos iniciais\n",
        "        self.bias = np.random.randn()  # bias inicial\n",
        "\n",
        "    # Função de ativação binária (para inferência)\n",
        "    def activation(self, x):\n",
        "        return np.where(x >= 0, 1, 0)\n",
        "\n",
        "    # Predição binária (usa degrau)\n",
        "    def predict(self, X):\n",
        "        linear_output = np.dot(X, self.weights) + self.bias\n",
        "        return self.activation(linear_output)\n",
        "\n",
        "    # Regra Perceptron\n",
        "    def fit_perceptron(self, X, y):\n",
        "        for _ in range(self.epochs):\n",
        "            for xi, target in zip(X, y):\n",
        "                linear_output = np.dot(xi, self.weights) + self.bias\n",
        "                y_pred_bin = self.activation(linear_output)\n",
        "                update = self.lr * (target - y_pred_bin)\n",
        "                self.weights += update * xi\n",
        "                self.bias += update\n",
        "\n",
        "    # Regra Delta Widrow–Hoff\n",
        "    # atualiza os pesos usando saida linear\n",
        "    # w <- w + lr * (target - y_hat) * x\n",
        "    # b <- b + lr * (target - y_hat)\n",
        "    def fit_delta(self, X, y):\n",
        "        for _ in range(self.epochs):\n",
        "            for xi, target in zip(X, y):\n",
        "                y_hat = np.dot(xi, self.weights) + self.bias  # saída linear\n",
        "                error = target - y_hat # erro contínuo\n",
        "                self.weights += self.lr * error * xi # atualização Delta\n",
        "                self.bias += self.lr * error\n",
        "\n",
        "# calculadora de accuracy, compara a truth table com a predição\n",
        "def accuracy(y_true, y_pred):\n",
        "    correct = np.sum(y_true == y_pred)\n",
        "    total = len(y_true)\n",
        "    return (correct / total) * 100\n",
        "\n",
        "# Tabelas verdade\n",
        "X_and = np.array([[0,0], [0,1], [1,0], [1,1]])\n",
        "y_and = np.array([0, 0, 0, 1])\n",
        "\n",
        "X_or = np.array([[0,0], [0,1], [1,0], [1,1]])\n",
        "y_or = np.array([0, 1, 1, 1])\n",
        "\n",
        "X_xor = np.array([[0,0], [0,1], [1,0], [1,1]])\n",
        "y_xor = np.array([0, 1, 1, 0])\n",
        "\n",
        "# Treino com Regra Delta\n",
        "model = Perceptron(input_size=2, lr=0.1, epochs=50)\n",
        "\n",
        "# AND com Delta\n",
        "model.fit_delta(X_and, y_and)\n",
        "\n",
        "y_and_predict = model.predict(X_and)\n",
        "print(\"-----------------------------------------\")\n",
        "print(\"- AND GATE (Delta)\")\n",
        "print(f\"- Accuracy: {accuracy(y_and, y_and_predict):.2f}%\")\n",
        "print(\"- Predictions:\", y_and_predict)\n",
        "print(\"- Weights:\", model.weights)\n",
        "print(\"- Bias:\", model.bias)\n",
        "print(\"-----------------------------------------\")\n",
        "\n",
        "# OR com Delta\n",
        "model.fit_delta(X_or, y_or)\n",
        "\n",
        "y_or_predict = model.predict(X_or)\n",
        "print(\"-----------------------------------------\")\n",
        "print(\"- OR GATE (Delta)\")\n",
        "print(f\"- Accuracy: {accuracy(y_or, y_or_predict):.2f}%\")\n",
        "print(\"- Predictions:\", y_or_predict)\n",
        "print(\"- Weights:\", model.weights)\n",
        "print(\"- Bias:\", model.bias)\n",
        "print(\"-----------------------------------------\")\n",
        "\n",
        "# XOR com Delta\n",
        "model.fit_delta(X_xor, y_xor)\n",
        "\n",
        "y_xor_predict = model.predict(X_xor)\n",
        "print(\"-----------------------------------------\")\n",
        "print(\"- XOR GATE (Delta)\")\n",
        "print(f\"- Accuracy: {accuracy(y_xor, y_xor_predict):.2f}%\")\n",
        "print(\"- Predictions:\", y_xor_predict)\n",
        "print(\"- Weights:\", model.weights)\n",
        "print(\"- Bias:\", model.bias)\n",
        "print(\"-----------------------------------------\")\n"
      ],
      "metadata": {
        "colab": {
          "base_uri": "https://localhost:8080/"
        },
        "id": "Lptkw3M1ubQq",
        "outputId": "61f3c8a9-05b1-446a-84b9-74b631b96d8d"
      },
      "execution_count": 34,
      "outputs": [
        {
          "output_type": "stream",
          "name": "stdout",
          "text": [
            "-----------------------------------------\n",
            "- AND GATE (Delta)\n",
            "- Accuracy: 50.00%\n",
            "- Predictions: [0 1 1 1]\n",
            "- Weights: [0.54104078 0.51008929]\n",
            "- Bias: -0.2560768712758747\n",
            "-----------------------------------------\n",
            "-----------------------------------------\n",
            "- OR GATE (Delta)\n",
            "- Accuracy: 75.00%\n",
            "- Predictions: [1 1 1 1]\n",
            "- Weights: [0.45110365 0.47901642]\n",
            "- Bias: 0.2686944975454509\n",
            "-----------------------------------------\n",
            "-----------------------------------------\n",
            "- XOR GATE (Delta)\n",
            "- Accuracy: 50.00%\n",
            "- Predictions: [1 1 1 1]\n",
            "- Weights: [-0.09810411 -0.04204464]\n",
            "- Bias: 0.5376550333720755\n",
            "-----------------------------------------\n"
          ]
        }
      ]
    }
  ]
}